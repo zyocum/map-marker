{
 "cells": [
  {
   "cell_type": "code",
   "execution_count": 1,
   "metadata": {},
   "outputs": [
    {
     "name": "stdout",
     "output_type": "stream",
     "text": [
      "Requirement already up-to-date: folium in /usr/local/lib/python3.6/site-packages (0.5.0)\n",
      "Requirement already up-to-date: opencage in /usr/local/lib/python3.6/site-packages (1.1.4)\n",
      "Requirement not upgraded as not directly required: six in /usr/local/Cellar/ipython/6.4.0/libexec/vendor/lib/python3.6/site-packages (from folium) (1.11.0)\n",
      "Requirement not upgraded as not directly required: branca in /usr/local/lib/python3.6/site-packages (from folium) (0.3.0)\n",
      "Requirement not upgraded as not directly required: jinja2 in /usr/local/lib/python3.6/site-packages (from folium) (2.10)\n",
      "Requirement not upgraded as not directly required: requests in /usr/local/lib/python3.6/site-packages (from folium) (2.18.4)\n",
      "Requirement not upgraded as not directly required: MarkupSafe>=0.23 in /usr/local/lib/python3.6/site-packages (from jinja2->folium) (1.0)\n",
      "Requirement not upgraded as not directly required: idna<2.7,>=2.5 in /usr/local/lib/python3.6/site-packages (from requests->folium) (2.6)\n",
      "Requirement not upgraded as not directly required: chardet<3.1.0,>=3.0.2 in /usr/local/lib/python3.6/site-packages (from requests->folium) (3.0.4)\n",
      "Requirement not upgraded as not directly required: certifi>=2017.4.17 in /usr/local/lib/python3.6/site-packages (from requests->folium) (2018.4.16)\n",
      "Requirement not upgraded as not directly required: urllib3<1.23,>=1.21.1 in /usr/local/lib/python3.6/site-packages (from requests->folium) (1.22)\n",
      "\u001b[31mflake8 3.5.0 has requirement pycodestyle<2.4.0,>=2.0.0, but you'll have pycodestyle 2.4.0 which is incompatible.\u001b[0m\n"
     ]
    }
   ],
   "source": [
    "!pip3 install -U folium opencage"
   ]
  },
  {
   "cell_type": "code",
   "execution_count": 2,
   "metadata": {},
   "outputs": [],
   "source": [
    "\"\"\"Given a list of location queries, mark the locations on a Foium \n",
    "(https://github.com/python-visualization/folium) map via the OpenCage \n",
    "(https://geocoder.opencagedata.com/) geocoder service\n",
    "\"\"\"\n",
    "\n",
    "import os\n",
    "import sys\n",
    "import getpass\n",
    "\n",
    "from itertools import chain\n",
    "from math import pi, sin, cos, atan2, sqrt\n",
    "\n",
    "import folium\n",
    "\n",
    "from opencage.geocoder import OpenCageGeocode\n",
    "\n",
    "def middle(*coordinates):\n",
    "    \"\"\"Finde the middle point between a collection of coordinates\n",
    "    \n",
    "    coordinates: iterable of (lat, lng) points\n",
    "    \n",
    "    From: https://stackoverflow.com/a/18623672\"\"\"\n",
    "    if len(coordinates) == 1:\n",
    "        return coordinates[0]\n",
    "    if len(coordinates) < 2:\n",
    "        print(\n",
    "            f'Need at least one coordinate (got {len(coordinates)}',\n",
    "            file=sys.stderr\n",
    "        )\n",
    "        return None\n",
    "    x, y, z = 0.0, 0.0, 0.0\n",
    "    for coordinate in coordinates:\n",
    "        lat, lng = coordinate\n",
    "        lat_angle = lat * pi / 180\n",
    "        lng_angle = lng * pi / 180\n",
    "        x += cos(lat_angle) * cos(lng_angle)\n",
    "        y += cos(lat_angle) * sin(lng_angle)\n",
    "        z += sin(lat_angle)\n",
    "    x /= len(coordinates)\n",
    "    y /= len(coordinates)\n",
    "    z /= len(coordinates)\n",
    "    longitude = atan2(y, x)\n",
    "    hypotenuse = sqrt(x * x + y * y)\n",
    "    latitude = atan2(z, hypotenuse)\n",
    "    return (latitude * 180 / pi, longitude * 180 / pi)\n",
    "\n",
    "def coordinates(location):\n",
    "    \"\"\"Return a (lat, lng) tuple from an OpenCage location result\n",
    "    \n",
    "    location: a dict (from opencage.geocoder.OpenCageGeocode.geocode)\n",
    "    \"\"\"\n",
    "    geometry = location['geometry']\n",
    "    return geometry['lat'], geometry['lng']\n",
    "\n",
    "def mark(query, location, map_, rank, total):\n",
    "    \"\"\"Given a location query, its rank, the location result for the query,\n",
    "    a map and the total number of results, mark the location on the map with\n",
    "    useful information.\n",
    "    \n",
    "    query: a location query string\n",
    "    rank: the rank of the location within the results\n",
    "    location: a result from opencage.geocoder.OpenCageGeocode.geocode\n",
    "    map_: a folium.Map\n",
    "    total: the total number of results returned by \n",
    "           opencage.geocoder.OpenCageGeocode.geocode\n",
    "    \"\"\"\n",
    "    label = (\n",
    "        f'<p>Query: {query}</p>'\n",
    "        f'<p>Rank: {rank} (of {total})</p>'\n",
    "        f'<p>Formatted: {location[\"formatted\"]}</p>'\n",
    "        f'<p>Coordinates: {coordinates(location)!r}</p>'\n",
    "    )\n",
    "    folium.Marker(\n",
    "        coordinates(location),\n",
    "        popup=label\n",
    "    ).add_to(map_)\n",
    "\n",
    "def main(geocoder, queries, zoom=0):\n",
    "    \"\"\"Given a geocoder, a list of query strings, and an output file name\n",
    "    create a map, mark the results, and write the map to the file.  An optional\n",
    "    zoom parameter can be supplied to zoom in on the midpoint between the \n",
    "    marked results.\n",
    "    \n",
    "    geocoder: an opencage.geocoder.OpenCageGeocode\n",
    "    queries: a list of query strings\n",
    "    zoom: specify a starting zoom level (default=0)\n",
    "    \"\"\"\n",
    "    results = {query: geocoder.geocode(query) for query in queries}\n",
    "    locations = list(chain(*results.values()))\n",
    "    candidate_coordinates = []\n",
    "    for locations in results.values():\n",
    "        for location in locations:\n",
    "            candidate_coordinates.append(coordinates(location))\n",
    "    map_ = folium.Map(\n",
    "        location=middle(*candidate_coordinates),\n",
    "        zoom_start=zoom,\n",
    "        detect_retina=True\n",
    "    )\n",
    "    for query, locations in results.items():\n",
    "        for rank, location in enumerate(locations, 1):\n",
    "            mark(query, location, map_, rank, len(locations))\n",
    "    display(map_)"
   ]
  },
  {
   "cell_type": "code",
   "execution_count": 3,
   "metadata": {},
   "outputs": [
    {
     "data": {
      "text/html": [
       "<div style=\"width:100%;\"><div style=\"position:relative;width:100%;height:0;padding-bottom:60%;\"><iframe src=\"data:text/html;charset=utf-8;base64,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\" style=\"position:absolute;width:100%;height:100%;left:0;top:0;border:none !important;\" allowfullscreen webkitallowfullscreen mozallowfullscreen></iframe></div></div>"
      ],
      "text/plain": [
       "<folium.folium.Map at 0x10d0c6fd0>"
      ]
     },
     "metadata": {},
     "output_type": "display_data"
    }
   ],
   "source": [
    "key = (\n",
    "    os.environ.get('OPENCAGE_USER_KEY')\n",
    "    or getpass(prompt='OpenCage API key: ')\n",
    ")\n",
    "queries = [\n",
    "    '82 Clerkenwell Road, London',\n",
    "    'Cayabon, Milagros Masbate Philippines'\n",
    "]\n",
    "main(OpenCageGeocode(key), queries)"
   ]
  },
  {
   "cell_type": "code",
   "execution_count": null,
   "metadata": {},
   "outputs": [],
   "source": []
  }
 ],
 "metadata": {
  "kernelspec": {
   "display_name": "Python 3",
   "language": "python",
   "name": "python3"
  },
  "language_info": {
   "codemirror_mode": {
    "name": "ipython",
    "version": 3
   },
   "file_extension": ".py",
   "mimetype": "text/x-python",
   "name": "python",
   "nbconvert_exporter": "python",
   "pygments_lexer": "ipython3",
   "version": "3.6.5"
  }
 },
 "nbformat": 4,
 "nbformat_minor": 2
}
